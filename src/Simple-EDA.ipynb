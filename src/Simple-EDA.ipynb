{
 "cells": [
  {
   "cell_type": "code",
   "execution_count": 1,
   "id": "e3a9f196",
   "metadata": {},
   "outputs": [
    {
     "name": "stdout",
     "output_type": "stream",
     "text": [
      "1.4.49\n"
     ]
    }
   ],
   "source": [
    "import sqlalchemy\n",
    "print(sqlalchemy.__version__)"
   ]
  },
  {
   "cell_type": "markdown",
   "id": "e69121a0",
   "metadata": {},
   "source": [
    "### Connect db"
   ]
  },
  {
   "cell_type": "code",
   "execution_count": 2,
   "id": "b6fe8f25",
   "metadata": {},
   "outputs": [],
   "source": [
    "%load_ext sql"
   ]
  },
  {
   "cell_type": "code",
   "execution_count": 6,
   "id": "6ece9ad9",
   "metadata": {},
   "outputs": [
    {
     "data": {
      "text/plain": [
       "'Connected: @indo_spotify.db'"
      ]
     },
     "execution_count": 6,
     "metadata": {},
     "output_type": "execute_result"
    }
   ],
   "source": [
    "%sql sqlite:///indo_spotify.db"
   ]
  },
  {
   "cell_type": "markdown",
   "id": "920bd3b5",
   "metadata": {},
   "source": [
    "### Check Table Avaiable"
   ]
  },
  {
   "cell_type": "code",
   "execution_count": 7,
   "id": "81e472e6",
   "metadata": {},
   "outputs": [
    {
     "name": "stdout",
     "output_type": "stream",
     "text": [
      " * sqlite:///indo_spotify.db\n",
      "   sqlite:///spotify_data.db\n",
      "Done.\n"
     ]
    },
    {
     "data": {
      "text/html": [
       "<table>\n",
       "    <thead>\n",
       "        <tr>\n",
       "            <th>name</th>\n",
       "        </tr>\n",
       "    </thead>\n",
       "    <tbody>\n",
       "        <tr>\n",
       "            <td>artist</td>\n",
       "        </tr>\n",
       "        <tr>\n",
       "            <td>artist_genre</td>\n",
       "        </tr>\n",
       "        <tr>\n",
       "            <td>album</td>\n",
       "        </tr>\n",
       "        <tr>\n",
       "            <td>album_artist</td>\n",
       "        </tr>\n",
       "        <tr>\n",
       "            <td>track</td>\n",
       "        </tr>\n",
       "        <tr>\n",
       "            <td>track_artist</td>\n",
       "        </tr>\n",
       "    </tbody>\n",
       "</table>"
      ],
      "text/plain": [
       "[('artist',),\n",
       " ('artist_genre',),\n",
       " ('album',),\n",
       " ('album_artist',),\n",
       " ('track',),\n",
       " ('track_artist',)]"
      ]
     },
     "execution_count": 7,
     "metadata": {},
     "output_type": "execute_result"
    }
   ],
   "source": [
    "%%sql\n",
    "SELECT name FROM sqlite_master WHERE type='table';"
   ]
  },
  {
   "cell_type": "markdown",
   "id": "40f99938",
   "metadata": {},
   "source": [
    "### Simple EDA"
   ]
  },
  {
   "cell_type": "code",
   "execution_count": 31,
   "id": "480a3b1b",
   "metadata": {},
   "outputs": [],
   "source": [
    "# Count of artists, albums, and tracks"
   ]
  },
  {
   "cell_type": "code",
   "execution_count": 10,
   "id": "a357a824",
   "metadata": {},
   "outputs": [
    {
     "name": "stdout",
     "output_type": "stream",
     "text": [
      " * sqlite:///indo_spotify.db\n",
      "   sqlite:///spotify_data.db\n",
      "Done.\n"
     ]
    },
    {
     "data": {
      "text/html": [
       "<table>\n",
       "    <thead>\n",
       "        <tr>\n",
       "            <th>total_artist</th>\n",
       "            <th>total_album</th>\n",
       "            <th>total_track</th>\n",
       "        </tr>\n",
       "    </thead>\n",
       "    <tbody>\n",
       "        <tr>\n",
       "            <td>3</td>\n",
       "            <td>30</td>\n",
       "            <td>30</td>\n",
       "        </tr>\n",
       "    </tbody>\n",
       "</table>"
      ],
      "text/plain": [
       "[(3, 30, 30)]"
      ]
     },
     "execution_count": 10,
     "metadata": {},
     "output_type": "execute_result"
    }
   ],
   "source": [
    "%%sql\n",
    "SELECT \n",
    "    (SELECT COUNT(*) FROM artist) AS total_artist,\n",
    "    (SELECT COUNT(*) FROM album) AS total_album,\n",
    "    (SELECT COUNT(*) FROM track) AS total_track;"
   ]
  },
  {
   "cell_type": "code",
   "execution_count": 30,
   "id": "932463bd",
   "metadata": {},
   "outputs": [],
   "source": [
    "# Artist with the most followers"
   ]
  },
  {
   "cell_type": "code",
   "execution_count": 11,
   "id": "7d807bb8",
   "metadata": {},
   "outputs": [
    {
     "name": "stdout",
     "output_type": "stream",
     "text": [
      " * sqlite:///indo_spotify.db\n",
      "   sqlite:///spotify_data.db\n",
      "Done.\n"
     ]
    },
    {
     "data": {
      "text/html": [
       "<table>\n",
       "    <thead>\n",
       "        <tr>\n",
       "            <th>name</th>\n",
       "            <th>followers_total</th>\n",
       "        </tr>\n",
       "    </thead>\n",
       "    <tbody>\n",
       "        <tr>\n",
       "            <td>Hindia</td>\n",
       "            <td>8086566</td>\n",
       "        </tr>\n",
       "        <tr>\n",
       "            <td>.Feast</td>\n",
       "            <td>2341929</td>\n",
       "        </tr>\n",
       "        <tr>\n",
       "            <td>Lomba Sihir</td>\n",
       "            <td>256616</td>\n",
       "        </tr>\n",
       "    </tbody>\n",
       "</table>"
      ],
      "text/plain": [
       "[('Hindia', 8086566), ('.Feast', 2341929), ('Lomba Sihir', 256616)]"
      ]
     },
     "execution_count": 11,
     "metadata": {},
     "output_type": "execute_result"
    }
   ],
   "source": [
    "%%sql\n",
    "SELECT name, followers_total\n",
    "FROM artist\n",
    "ORDER BY followers_total DESC;"
   ]
  },
  {
   "cell_type": "code",
   "execution_count": 29,
   "id": "19056fa0",
   "metadata": {},
   "outputs": [],
   "source": [
    "# Most popular genres"
   ]
  },
  {
   "cell_type": "code",
   "execution_count": 12,
   "id": "8336a38b",
   "metadata": {},
   "outputs": [
    {
     "name": "stdout",
     "output_type": "stream",
     "text": [
      " * sqlite:///indo_spotify.db\n",
      "   sqlite:///spotify_data.db\n",
      "Done.\n"
     ]
    },
    {
     "data": {
      "text/html": [
       "<table>\n",
       "    <thead>\n",
       "        <tr>\n",
       "            <th>genre</th>\n",
       "            <th>artist_count</th>\n",
       "        </tr>\n",
       "    </thead>\n",
       "    <tbody>\n",
       "        <tr>\n",
       "            <td>indonesian indie</td>\n",
       "            <td>3</td>\n",
       "        </tr>\n",
       "        <tr>\n",
       "            <td>indorock</td>\n",
       "            <td>1</td>\n",
       "        </tr>\n",
       "        <tr>\n",
       "            <td>indonesian pop</td>\n",
       "            <td>1</td>\n",
       "        </tr>\n",
       "    </tbody>\n",
       "</table>"
      ],
      "text/plain": [
       "[('indonesian indie', 3), ('indorock', 1), ('indonesian pop', 1)]"
      ]
     },
     "execution_count": 12,
     "metadata": {},
     "output_type": "execute_result"
    }
   ],
   "source": [
    "%%sql\n",
    "SELECT genre, COUNT(artist_id) AS artist_count\n",
    "FROM artist_genre\n",
    "GROUP BY genre\n",
    "ORDER BY artist_count DESC;"
   ]
  },
  {
   "cell_type": "code",
   "execution_count": 28,
   "id": "d1f73119",
   "metadata": {},
   "outputs": [],
   "source": [
    "# Album with the most tracks"
   ]
  },
  {
   "cell_type": "code",
   "execution_count": 15,
   "id": "debda23d",
   "metadata": {},
   "outputs": [
    {
     "name": "stdout",
     "output_type": "stream",
     "text": [
      " * sqlite:///indo_spotify.db\n",
      "   sqlite:///spotify_data.db\n",
      "Done.\n"
     ]
    },
    {
     "data": {
      "text/html": [
       "<table>\n",
       "    <thead>\n",
       "        <tr>\n",
       "            <th>album_name</th>\n",
       "            <th>total_tracks</th>\n",
       "        </tr>\n",
       "    </thead>\n",
       "    <tbody>\n",
       "        <tr>\n",
       "            <td>Lagipula Hidup Akan Berakhir</td>\n",
       "            <td>28</td>\n",
       "        </tr>\n",
       "        <tr>\n",
       "            <td>Doves, &#x27;25 on Blank Canvas</td>\n",
       "            <td>16</td>\n",
       "        </tr>\n",
       "        <tr>\n",
       "            <td>Obrolan Jam 3 Pagi</td>\n",
       "            <td>16</td>\n",
       "        </tr>\n",
       "        <tr>\n",
       "            <td>Menari Dengan Bayangan</td>\n",
       "            <td>15</td>\n",
       "        </tr>\n",
       "        <tr>\n",
       "            <td>Membangun &amp; Menghancurkan</td>\n",
       "            <td>15</td>\n",
       "        </tr>\n",
       "    </tbody>\n",
       "</table>"
      ],
      "text/plain": [
       "[('Lagipula Hidup Akan Berakhir', 28),\n",
       " (\"Doves, '25 on Blank Canvas\", 16),\n",
       " ('Obrolan Jam 3 Pagi', 16),\n",
       " ('Menari Dengan Bayangan', 15),\n",
       " ('Membangun & Menghancurkan', 15)]"
      ]
     },
     "execution_count": 15,
     "metadata": {},
     "output_type": "execute_result"
    }
   ],
   "source": [
    "%%sql\n",
    "SELECT album_name, total_tracks\n",
    "FROM album\n",
    "ORDER BY total_tracks DESC\n",
    "LIMIT 5;"
   ]
  },
  {
   "cell_type": "code",
   "execution_count": 27,
   "id": "dda34695",
   "metadata": {},
   "outputs": [],
   "source": [
    "# Popular tracks by popularity"
   ]
  },
  {
   "cell_type": "code",
   "execution_count": 16,
   "id": "a5dd2d44",
   "metadata": {},
   "outputs": [
    {
     "name": "stdout",
     "output_type": "stream",
     "text": [
      " * sqlite:///indo_spotify.db\n",
      "   sqlite:///spotify_data.db\n",
      "Done.\n"
     ]
    },
    {
     "data": {
      "text/html": [
       "<table>\n",
       "    <thead>\n",
       "        <tr>\n",
       "            <th>track_name</th>\n",
       "            <th>popularity</th>\n",
       "        </tr>\n",
       "    </thead>\n",
       "    <tbody>\n",
       "        <tr>\n",
       "            <td>Rumah Ke Rumah</td>\n",
       "            <td>85</td>\n",
       "        </tr>\n",
       "        <tr>\n",
       "            <td>Cincin</td>\n",
       "            <td>84</td>\n",
       "        </tr>\n",
       "        <tr>\n",
       "            <td>Tarot</td>\n",
       "            <td>84</td>\n",
       "        </tr>\n",
       "        <tr>\n",
       "            <td>everything u are</td>\n",
       "            <td>83</td>\n",
       "        </tr>\n",
       "        <tr>\n",
       "            <td>Nina</td>\n",
       "            <td>83</td>\n",
       "        </tr>\n",
       "        <tr>\n",
       "            <td>Evaluasi</td>\n",
       "            <td>82</td>\n",
       "        </tr>\n",
       "        <tr>\n",
       "            <td>semua lagu cinta terdengar sama</td>\n",
       "            <td>82</td>\n",
       "        </tr>\n",
       "        <tr>\n",
       "            <td>o,Tuan</td>\n",
       "            <td>82</td>\n",
       "        </tr>\n",
       "        <tr>\n",
       "            <td>Secukupnya</td>\n",
       "            <td>80</td>\n",
       "        </tr>\n",
       "        <tr>\n",
       "            <td>Kita Ke Sana</td>\n",
       "            <td>79</td>\n",
       "        </tr>\n",
       "    </tbody>\n",
       "</table>"
      ],
      "text/plain": [
       "[('Rumah Ke Rumah', 85),\n",
       " ('Cincin', 84),\n",
       " ('Tarot', 84),\n",
       " ('everything u are', 83),\n",
       " ('Nina', 83),\n",
       " ('Evaluasi', 82),\n",
       " ('semua lagu cinta terdengar sama', 82),\n",
       " ('o,Tuan', 82),\n",
       " ('Secukupnya', 80),\n",
       " ('Kita Ke Sana', 79)]"
      ]
     },
     "execution_count": 16,
     "metadata": {},
     "output_type": "execute_result"
    }
   ],
   "source": [
    "%%sql\n",
    "SELECT track_name, popularity\n",
    "FROM track\n",
    "ORDER BY popularity DESC\n",
    "LIMIT 10;"
   ]
  },
  {
   "cell_type": "code",
   "execution_count": 26,
   "id": "87087112",
   "metadata": {},
   "outputs": [],
   "source": [
    "# Popularity distribution"
   ]
  },
  {
   "cell_type": "code",
   "execution_count": 17,
   "id": "e5b25657",
   "metadata": {},
   "outputs": [
    {
     "name": "stdout",
     "output_type": "stream",
     "text": [
      " * sqlite:///indo_spotify.db\n",
      "   sqlite:///spotify_data.db\n",
      "Done.\n"
     ]
    },
    {
     "data": {
      "text/html": [
       "<table>\n",
       "    <thead>\n",
       "        <tr>\n",
       "            <th>avg_popularity</th>\n",
       "            <th>min_popularity</th>\n",
       "            <th>max_popularity</th>\n",
       "        </tr>\n",
       "    </thead>\n",
       "    <tbody>\n",
       "        <tr>\n",
       "            <td>70.73333333333333</td>\n",
       "            <td>51</td>\n",
       "            <td>85</td>\n",
       "        </tr>\n",
       "    </tbody>\n",
       "</table>"
      ],
      "text/plain": [
       "[(70.73333333333333, 51, 85)]"
      ]
     },
     "execution_count": 17,
     "metadata": {},
     "output_type": "execute_result"
    }
   ],
   "source": [
    "%%sql\n",
    "SELECT \n",
    "    AVG(popularity) AS avg_popularity,\n",
    "    MIN(popularity) AS min_popularity,\n",
    "    MAX(popularity) AS max_popularity\n",
    "FROM track;"
   ]
  },
  {
   "cell_type": "code",
   "execution_count": 25,
   "id": "bea006e4",
   "metadata": {},
   "outputs": [],
   "source": [
    "# Average duration of tracks by artist"
   ]
  },
  {
   "cell_type": "code",
   "execution_count": 20,
   "id": "b4ee9556",
   "metadata": {},
   "outputs": [
    {
     "name": "stdout",
     "output_type": "stream",
     "text": [
      " * sqlite:///indo_spotify.db\n",
      "   sqlite:///spotify_data.db\n",
      "Done.\n"
     ]
    },
    {
     "data": {
      "text/html": [
       "<table>\n",
       "    <thead>\n",
       "        <tr>\n",
       "            <th>name</th>\n",
       "            <th>avg_duration_min</th>\n",
       "        </tr>\n",
       "    </thead>\n",
       "    <tbody>\n",
       "        <tr>\n",
       "            <td>.Feast</td>\n",
       "            <td>4.440803333333333</td>\n",
       "        </tr>\n",
       "        <tr>\n",
       "            <td>Hindia</td>\n",
       "            <td>4.179403333333333</td>\n",
       "        </tr>\n",
       "        <tr>\n",
       "            <td>Lomba Sihir</td>\n",
       "            <td>4.0133600000000005</td>\n",
       "        </tr>\n",
       "    </tbody>\n",
       "</table>"
      ],
      "text/plain": [
       "[('.Feast', 4.440803333333333),\n",
       " ('Hindia', 4.179403333333333),\n",
       " ('Lomba Sihir', 4.0133600000000005)]"
      ]
     },
     "execution_count": 20,
     "metadata": {},
     "output_type": "execute_result"
    }
   ],
   "source": [
    "%%sql\n",
    "SELECT ar.name, AVG(t.duration_ms)/60000 AS avg_duration_min\n",
    "FROM artist ar\n",
    "JOIN track_artist ta ON ar.artist_id = ta.artist_id\n",
    "JOIN track t ON ta.track_id = t.track_id\n",
    "GROUP BY ar.artist_id, ar.name\n",
    "ORDER BY avg_duration_min DESC;"
   ]
  },
  {
   "cell_type": "code",
   "execution_count": 24,
   "id": "4573701b",
   "metadata": {},
   "outputs": [],
   "source": [
    "# Album with the most tracks"
   ]
  },
  {
   "cell_type": "code",
   "execution_count": 33,
   "id": "f806c886",
   "metadata": {},
   "outputs": [
    {
     "name": "stdout",
     "output_type": "stream",
     "text": [
      " * sqlite:///indo_spotify.db\n",
      "   sqlite:///spotify_data.db\n",
      "Done.\n"
     ]
    },
    {
     "data": {
      "text/html": [
       "<table>\n",
       "    <thead>\n",
       "        <tr>\n",
       "            <th>album_name</th>\n",
       "            <th>track_name</th>\n",
       "            <th>popularity</th>\n",
       "        </tr>\n",
       "    </thead>\n",
       "    <tbody>\n",
       "        <tr>\n",
       "            <td>Menari Dengan Bayangan</td>\n",
       "            <td>Rumah Ke Rumah</td>\n",
       "            <td>85</td>\n",
       "        </tr>\n",
       "        <tr>\n",
       "            <td>Membangun &amp; Menghancurkan</td>\n",
       "            <td>Tarot</td>\n",
       "            <td>84</td>\n",
       "        </tr>\n",
       "        <tr>\n",
       "            <td>Doves, &#x27;25 on Blank Canvas</td>\n",
       "            <td>everything u are</td>\n",
       "            <td>83</td>\n",
       "        </tr>\n",
       "        <tr>\n",
       "            <td>Membangun &amp; Menghancurkan</td>\n",
       "            <td>Nina</td>\n",
       "            <td>83</td>\n",
       "        </tr>\n",
       "        <tr>\n",
       "            <td>Doves, &#x27;25 on Blank Canvas</td>\n",
       "            <td>semua lagu cinta terdengar sama</td>\n",
       "            <td>82</td>\n",
       "        </tr>\n",
       "    </tbody>\n",
       "</table>"
      ],
      "text/plain": [
       "[('Menari Dengan Bayangan', 'Rumah Ke Rumah', 85),\n",
       " ('Membangun & Menghancurkan', 'Tarot', 84),\n",
       " (\"Doves, '25 on Blank Canvas\", 'everything u are', 83),\n",
       " ('Membangun & Menghancurkan', 'Nina', 83),\n",
       " (\"Doves, '25 on Blank Canvas\", 'semua lagu cinta terdengar sama', 82)]"
      ]
     },
     "execution_count": 33,
     "metadata": {},
     "output_type": "execute_result"
    }
   ],
   "source": [
    "%%sql\n",
    "SELECT al.album_name, t.track_name, t.popularity\n",
    "FROM album al\n",
    "JOIN track t ON al.album_id = t.album_id\n",
    "ORDER BY t.popularity DESC\n",
    "LIMIT 5;"
   ]
  },
  {
   "cell_type": "code",
   "execution_count": 36,
   "id": "2ee045de",
   "metadata": {},
   "outputs": [],
   "source": [
    "# Most popular tracks by popularity more detail"
   ]
  },
  {
   "cell_type": "code",
   "execution_count": 35,
   "id": "3fe552f0",
   "metadata": {},
   "outputs": [
    {
     "name": "stdout",
     "output_type": "stream",
     "text": [
      " * sqlite:///indo_spotify.db\n",
      "   sqlite:///spotify_data.db\n",
      "Done.\n"
     ]
    },
    {
     "data": {
      "text/html": [
       "<table>\n",
       "    <thead>\n",
       "        <tr>\n",
       "            <th>track_name</th>\n",
       "            <th>artist_name</th>\n",
       "            <th>popularity</th>\n",
       "            <th>album_name</th>\n",
       "            <th>album_group</th>\n",
       "        </tr>\n",
       "    </thead>\n",
       "    <tbody>\n",
       "        <tr>\n",
       "            <td>Rumah Ke Rumah</td>\n",
       "            <td>Hindia</td>\n",
       "            <td>85</td>\n",
       "            <td>Menari Dengan Bayangan</td>\n",
       "            <td>album</td>\n",
       "        </tr>\n",
       "        <tr>\n",
       "            <td>Tarot</td>\n",
       "            <td>.Feast</td>\n",
       "            <td>84</td>\n",
       "            <td>Membangun &amp; Menghancurkan</td>\n",
       "            <td>album</td>\n",
       "        </tr>\n",
       "        <tr>\n",
       "            <td>everything u are</td>\n",
       "            <td>Hindia</td>\n",
       "            <td>83</td>\n",
       "            <td>Doves, &#x27;25 on Blank Canvas</td>\n",
       "            <td>album</td>\n",
       "        </tr>\n",
       "        <tr>\n",
       "            <td>Nina</td>\n",
       "            <td>.Feast</td>\n",
       "            <td>83</td>\n",
       "            <td>Membangun &amp; Menghancurkan</td>\n",
       "            <td>album</td>\n",
       "        </tr>\n",
       "        <tr>\n",
       "            <td>Evaluasi</td>\n",
       "            <td>Hindia</td>\n",
       "            <td>82</td>\n",
       "            <td>Menari Dengan Bayangan</td>\n",
       "            <td>album</td>\n",
       "        </tr>\n",
       "    </tbody>\n",
       "</table>"
      ],
      "text/plain": [
       "[('Rumah Ke Rumah', 'Hindia', 85, 'Menari Dengan Bayangan', 'album'),\n",
       " ('Tarot', '.Feast', 84, 'Membangun & Menghancurkan', 'album'),\n",
       " ('everything u are', 'Hindia', 83, \"Doves, '25 on Blank Canvas\", 'album'),\n",
       " ('Nina', '.Feast', 83, 'Membangun & Menghancurkan', 'album'),\n",
       " ('Evaluasi', 'Hindia', 82, 'Menari Dengan Bayangan', 'album')]"
      ]
     },
     "execution_count": 35,
     "metadata": {},
     "output_type": "execute_result"
    }
   ],
   "source": [
    "%%sql\n",
    "SELECT \n",
    "    t.track_name, \n",
    "    ar.name AS artist_name,\n",
    "    t.popularity,\n",
    "    al.album_name,\n",
    "    al.album_group\n",
    "FROM track t\n",
    "JOIN track_artist ta ON t.track_id = ta.track_id\n",
    "JOIN artist ar ON ta.artist_id = ar.artist_id\n",
    "JOIN album al ON t.album_id = al.album_id\n",
    "ORDER BY t.popularity DESC\n",
    "LIMIT 5;"
   ]
  }
 ],
 "metadata": {
  "kernelspec": {
   "display_name": "basic",
   "language": "python",
   "name": "python3"
  },
  "language_info": {
   "codemirror_mode": {
    "name": "ipython",
    "version": 3
   },
   "file_extension": ".py",
   "mimetype": "text/x-python",
   "name": "python",
   "nbconvert_exporter": "python",
   "pygments_lexer": "ipython3",
   "version": "3.9.21"
  }
 },
 "nbformat": 4,
 "nbformat_minor": 5
}
